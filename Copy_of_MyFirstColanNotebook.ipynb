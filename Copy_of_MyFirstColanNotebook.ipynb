{
  "nbformat": 4,
  "nbformat_minor": 0,
  "metadata": {
    "colab": {
      "name": "Copy of MyFirstColanNotebook.ipynb",
      "provenance": [],
      "authorship_tag": "ABX9TyNEyYUbCThL9RLA02am7U5+",
      "include_colab_link": true
    },
    "kernelspec": {
      "name": "python3",
      "display_name": "Python 3"
    }
  },
  "cells": [
    {
      "cell_type": "markdown",
      "metadata": {
        "id": "view-in-github",
        "colab_type": "text"
      },
      "source": [
        "<a href=\"https://colab.research.google.com/github/KwameAdu-Tekyi/WAVE_SQL_REPO/blob/master/Copy_of_MyFirstColanNotebook.ipynb\" target=\"_parent\"><img src=\"https://colab.research.google.com/assets/colab-badge.svg\" alt=\"Open In Colab\"/></a>"
      ]
    },
    {
      "cell_type": "code",
      "metadata": {
        "id": "j5iw4fsUr5hA",
        "colab_type": "code",
        "colab": {
          "base_uri": "https://localhost:8080/",
          "height": 36
        },
        "outputId": "46f68d87-38f0-4252-a4e1-ad5e92b17f36"
      },
      "source": [
        "import time\n",
        "print (time.ctime())"
      ],
      "execution_count": null,
      "outputs": [
        {
          "output_type": "stream",
          "text": [
            "Fri Jul  3 22:08:06 2020\n"
          ],
          "name": "stdout"
        }
      ]
    },
    {
      "cell_type": "code",
      "metadata": {
        "id": "r01w9xM6tevW",
        "colab_type": "code",
        "colab": {
          "base_uri": "https://localhost:8080/",
          "height": 36
        },
        "outputId": "0142c573-1baa-41b8-f102-058b203e7009"
      },
      "source": [
        "time.sleep(5)\n",
        "print (time.ctime())"
      ],
      "execution_count": null,
      "outputs": [
        {
          "output_type": "stream",
          "text": [
            "Fri Jul  3 22:08:11 2020\n"
          ],
          "name": "stdout"
        }
      ]
    },
    {
      "cell_type": "code",
      "metadata": {
        "id": "8Rkw5XNUztHN",
        "colab_type": "code",
        "colab": {}
      },
      "source": [
        ""
      ],
      "execution_count": null,
      "outputs": []
    },
    {
      "cell_type": "markdown",
      "metadata": {
        "id": "_g3O89FVzze-",
        "colab_type": "text"
      },
      "source": [
        "This is **bold**\n",
        "This is *italic*\n",
        "This is ~strikethrough~"
      ]
    },
    {
      "cell_type": "markdown",
      "metadata": {
        "id": "WjiKCrCb0Kjv",
        "colab_type": "text"
      },
      "source": [
        "$\\sqrt{3x-1} + (1+x)^2$\n",
        "\n"
      ]
    },
    {
      "cell_type": "markdown",
      "metadata": {
        "id": "gug9EMz30nlC",
        "colab_type": "text"
      },
      "source": [
        "$e^x = \\sum_{i = 0]^ \\infty \\frac{1}{i!} x ^ i$\n",
        "\n"
      ]
    },
    {
      "cell_type": "markdown",
      "metadata": {
        "id": "YC8kxOPs08vC",
        "colab_type": "text"
      },
      "source": [
        ""
      ]
    }
  ]
}